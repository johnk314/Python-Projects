{
 "cells": [
  {
   "cell_type": "markdown",
   "metadata": {},
   "source": [
    "### Resources for learnings the matplotlib OOP API.\n",
    "pyplot and OOP API: https://matplotlib.org/3.1.1/api/index.html\n",
    "matplotlib.figure.Figure module: https://matplotlib.org/3.1.1/api/_as_gen/matplotlib.figure.Figure.html#matplotlib.figure.Figure\n",
    "matplotlib.axes.Axes module: https://matplotlib.org/3.1.1/api/axes_api.html#matplotlib.axes.Axes\n",
    "other matplotlib modules: https://matplotlib.org/3.1.1/api/index.html#modules"
   ]
  },
  {
   "cell_type": "code",
   "execution_count": 18,
   "metadata": {},
   "outputs": [],
   "source": [
    "import numpy as np\n",
    "import pandas\n",
    "import tool_belt # Connects to PostgreSQL (PostGIS) database\n",
    "import matplotlib.pyplot as plt  # State-based plotting.\n",
    "from matplotlib.figure import Figure  # The top level container for all the plot elements.\n",
    "from matplotlib.axes import Axes  # The Axes contains figure elements: Axis, Tick, Line2D, Text, Polygon, etc."
   ]
  },
  {
   "cell_type": "code",
   "execution_count": null,
   "metadata": {},
   "outputs": [],
   "source": []
  }
 ],
 "metadata": {
  "kernelspec": {
   "display_name": "Python 3",
   "language": "python",
   "name": "python3"
  },
  "language_info": {
   "codemirror_mode": {
    "name": "ipython",
    "version": 3
   },
   "file_extension": ".py",
   "mimetype": "text/x-python",
   "name": "python",
   "nbconvert_exporter": "python",
   "pygments_lexer": "ipython3",
   "version": "3.7.6"
  }
 },
 "nbformat": 4,
 "nbformat_minor": 4
}
